{
  "nbformat": 4,
  "nbformat_minor": 0,
  "metadata": {
    "colab": {
      "provenance": []
    },
    "kernelspec": {
      "name": "python3",
      "display_name": "Python 3"
    },
    "language_info": {
      "name": "python"
    }
  },
  "cells": [
    {
      "cell_type": "code",
      "execution_count": 5,
      "metadata": {
        "id": "DYYhYy18HpK0"
      },
      "outputs": [],
      "source": [
        "import numpy as np  \n",
        "import pandas as pd \n",
        "import matplotlib.pyplot as plt \n",
        "%matplotlib inline "
      ]
    },
    {
      "cell_type": "code",
      "source": [
        "import json \n",
        "\n",
        "from geopy.geocoders import Nominatim \n",
        "\n",
        "import requests \n",
        "from pandas.io.json import json_normalize \n",
        "\n",
        "\n",
        "import matplotlib.cm as cm\n",
        "import matplotlib.colors as colors\n",
        "\n",
        "\n",
        "from sklearn.cluster import KMeans\n",
        "from sklearn.metrics import pairwise_distances_argmin_min\n",
        "\n",
        "import folium  \n",
        "\n",
        "print('Libraries imported.')"
      ],
      "metadata": {
        "colab": {
          "base_uri": "https://localhost:8080/"
        },
        "id": "YT-9rXkwH3cM",
        "outputId": "5b214cfa-8fa6-4c39-c17a-94743dd039cb"
      },
      "execution_count": 6,
      "outputs": [
        {
          "output_type": "stream",
          "name": "stdout",
          "text": [
            "Libraries imported.\n"
          ]
        }
      ]
    },
    {
      "cell_type": "code",
      "source": [
        "import wget\n",
        "\n",
        "url=\"https://infra.datos.gob.ar/catalog/modernizacion/dataset/7/distribution/7.29/download/localidades-censales.csv\"\n",
        "path=\"C:/Users/u605929/Documents/CURSOS/PYTHON/Ciencia de Datos Aplicada Programa Especializado/4. Capstone/Batalla de los Vecindarios/\"\n",
        "wget.download(url,path)"
      ],
      "metadata": {
        "colab": {
          "base_uri": "https://localhost:8080/",
          "height": 373
        },
        "id": "xptbXZ8VH_m1",
        "outputId": "3960f14b-d2fb-4163-8656-20e181c9572a"
      },
      "execution_count": 7,
      "outputs": [
        {
          "output_type": "error",
          "ename": "ModuleNotFoundError",
          "evalue": "ignored",
          "traceback": [
            "\u001b[0;31m---------------------------------------------------------------------------\u001b[0m",
            "\u001b[0;31mModuleNotFoundError\u001b[0m                       Traceback (most recent call last)",
            "\u001b[0;32m<ipython-input-7-b91a296e2a8c>\u001b[0m in \u001b[0;36m<cell line: 1>\u001b[0;34m()\u001b[0m\n\u001b[0;32m----> 1\u001b[0;31m \u001b[0;32mimport\u001b[0m \u001b[0mwget\u001b[0m\u001b[0;34m\u001b[0m\u001b[0;34m\u001b[0m\u001b[0m\n\u001b[0m\u001b[1;32m      2\u001b[0m \u001b[0;34m\u001b[0m\u001b[0m\n\u001b[1;32m      3\u001b[0m \u001b[0murl\u001b[0m\u001b[0;34m=\u001b[0m\u001b[0;34m\"https://infra.datos.gob.ar/catalog/modernizacion/dataset/7/distribution/7.29/download/localidades-censales.csv\"\u001b[0m\u001b[0;34m\u001b[0m\u001b[0;34m\u001b[0m\u001b[0m\n\u001b[1;32m      4\u001b[0m \u001b[0mpath\u001b[0m\u001b[0;34m=\u001b[0m\u001b[0;34m\"C:/Users/u605929/Documents/CURSOS/PYTHON/Ciencia de Datos Aplicada Programa Especializado/4. Capstone/Batalla de los Vecindarios/\"\u001b[0m\u001b[0;34m\u001b[0m\u001b[0;34m\u001b[0m\u001b[0m\n\u001b[1;32m      5\u001b[0m \u001b[0mwget\u001b[0m\u001b[0;34m.\u001b[0m\u001b[0mdownload\u001b[0m\u001b[0;34m(\u001b[0m\u001b[0murl\u001b[0m\u001b[0;34m,\u001b[0m\u001b[0mpath\u001b[0m\u001b[0;34m)\u001b[0m\u001b[0;34m\u001b[0m\u001b[0;34m\u001b[0m\u001b[0m\n",
            "\u001b[0;31mModuleNotFoundError\u001b[0m: No module named 'wget'",
            "",
            "\u001b[0;31m---------------------------------------------------------------------------\u001b[0;32m\nNOTE: If your import is failing due to a missing package, you can\nmanually install dependencies using either !pip or !apt.\n\nTo view examples of installing some common dependencies, click the\n\"Open Examples\" button below.\n\u001b[0;31m---------------------------------------------------------------------------\u001b[0m\n"
          ],
          "errorDetails": {
            "actions": [
              {
                "action": "open_url",
                "actionText": "Open Examples",
                "url": "/notebooks/snippets/importing_libraries.ipynb"
              }
            ]
          }
        }
      ]
    },
    {
      "cell_type": "code",
      "source": [
        "url_prov=\"https://infra.datos.gob.ar/catalog/modernizacion/dataset/7/distribution/7.7/download/provincias.csv\"\n",
        "wget.download(url_prov,path)"
      ],
      "metadata": {
        "id": "uBJQ6SybIbnx"
      },
      "execution_count": null,
      "outputs": []
    },
    {
      "cell_type": "code",
      "source": [
        "url_internet=\"http://api.datosabiertos.enacom.gob.ar/api/v2/datastreams/CONEC-AL-SERVI-DE-INTER/data.csv?auth_key=44a38fbffd39c9f7d84e8e7dd2e1d02f0950e611&download=1\"\n",
        "wget.download(url_internet,path)"
      ],
      "metadata": {
        "id": "1Tfei7vzIeOG"
      },
      "execution_count": null,
      "outputs": []
    },
    {
      "cell_type": "code",
      "source": [
        "localidades=pd.read_csv(\"localidades-censales.csv\")\n",
        "internet=pd.read_csv(\"ConectividadalserviciodeInternet.csv\")"
      ],
      "metadata": {
        "id": "HAo9c2SeIgeA"
      },
      "execution_count": null,
      "outputs": []
    },
    {
      "cell_type": "code",
      "source": [
        "provincias=pd.read_csv(path+\"provincias.csv\")"
      ],
      "metadata": {
        "id": "6x_n2ZUSIiur"
      },
      "execution_count": null,
      "outputs": []
    },
    {
      "cell_type": "code",
      "source": [
        "regiones=pd.DataFrame(localidades.groupby([\"provincia_nombre\"]).size(),columns=['municipios']).sort_values(by=\"municipios\")\n",
        "\n",
        "# Initialize a Figure and an Axes\n",
        "fig, ax = plt.subplots()\n",
        "\n",
        "# Fig size\n",
        "fig.set_size_inches(10,8)\n",
        "\n",
        "# Create horizontal bars\n",
        "ax.barh(y=regiones.index, width=regiones.municipios);\n",
        "\n",
        "# Add title\n",
        "ax.set_title('Cantidad de Municipios por Región en Argentina');"
      ],
      "metadata": {
        "id": "18VULOSOKBTa"
      },
      "execution_count": null,
      "outputs": []
    },
    {
      "cell_type": "code",
      "source": [
        "regiones[\"Provincias\"]=regiones.index\n",
        "\n",
        "geo_prov=regiones.merge(provincias,left_on=\"Provincias\",right_on=\"nombre\")"
      ],
      "metadata": {
        "id": "ASEkHQGhKDf6"
      },
      "execution_count": null,
      "outputs": []
    },
    {
      "cell_type": "code",
      "source": [
        "#url_map=\"https://dnsg.ign.gob.ar/apps/api/v1/capas-sig/Geodesia+y+demarcaci%C3%B3n/L%C3%ADmites/provincia/json\"\n",
        "url_map=\"https://infra.datos.gob.ar/catalog/modernizacion/dataset/7/distribution/7.12/download/provincias.geojson\"\n",
        "filename=wget.download(url_map)\n",
        "\n",
        "print('GeoJSON file downloaded!')"
      ],
      "metadata": {
        "id": "lJYd2I4RKFvo"
      },
      "execution_count": null,
      "outputs": []
    },
    {
      "cell_type": "code",
      "source": [
        "costa_atlan=geo_prov.loc[[1,2,5,15,23]]\n",
        "costa_atlan=costa_atlan.drop([\"categoria\",\"nombre\",\"fuente\",\"id\",\"iso_id\",\"nombre_completo\",\"Provincias\"],axis=1)"
      ],
      "metadata": {
        "id": "aMdIL2AYKHqs"
      },
      "execution_count": null,
      "outputs": []
    },
    {
      "cell_type": "code",
      "source": [
        "costa_atlan.reset_index(drop=True,inplace=True)\n",
        "costa_atlan.rename(columns={\"iso_nombre\": \"Provincia\", \"B\": \"c\"},inplace=True)"
      ],
      "metadata": {
        "id": "j0YdswoXKJmo"
      },
      "execution_count": null,
      "outputs": []
    },
    {
      "cell_type": "code",
      "source": [
        "address = 'Argentina'\n",
        "\n",
        "geolocator = Nominatim(user_agent=\"to_explorer\")\n",
        "location = geolocator.geocode(address)\n",
        "latitude = location.latitude\n",
        "longitude = location.longitude\n",
        "print('The geograpical coordinate of Argentina are {}, {}.'.format(latitude, longitude))"
      ],
      "metadata": {
        "id": "fsKxgIQ2KLZJ"
      },
      "execution_count": null,
      "outputs": []
    },
    {
      "cell_type": "code",
      "source": [
        "# crear un mapa de Manhattan usando los valores de latitud y longitud\n",
        "map_costa = folium.Map(location=[latitude, longitude], zoom_start=4)\n",
        "\n",
        "# añadir los marcadores al mapa\n",
        "for lat, lng, label in zip(costa_atlan['centroide_lat'], costa_atlan['centroide_lon'], costa_atlan['Provincia']):\n",
        "    label = folium.Popup(label, parse_html=True)\n",
        "    folium.CircleMarker(\n",
        "        [lat, lng],\n",
        "        radius=8,\n",
        "        popup=label,\n",
        "        color='blue',\n",
        "        fill=True,\n",
        "        fill_color='#3186cc',\n",
        "        fill_opacity=0.7,\n",
        "        parse_html=False).add_to(map_costa)  \n",
        "    \n",
        "map_costa"
      ],
      "metadata": {
        "id": "RrKt6xRxKNrx"
      },
      "execution_count": null,
      "outputs": []
    },
    {
      "cell_type": "code",
      "source": [
        "costa_atlan"
      ],
      "metadata": {
        "id": "s0t_y-0KKSyB"
      },
      "execution_count": null,
      "outputs": []
    },
    {
      "cell_type": "code",
      "source": [
        "#localidades con acceso al mar fuente Wikipedia\n",
        "loc_costa=pd.read_csv(\"Localidades_Costa.csv\", encoding='latin-1')\n",
        "\n",
        "#Se limpia los datos \n",
        "costa_limpio=pd.DataFrame(data=loc_costa[\"Localidades_Costa\"].str.strip())\n",
        "\n",
        "#Se hace merge con el repositorio de localidades\n",
        "costa_merge=localidades.merge(costa_limpio,left_on='nombre',right_on='Localidades_Costa')\n",
        "\n",
        "print(\"Localidades de la Costa\",costa_limpio.shape)\n",
        "print(\"Merge con el Repositorio\",costa_merge.shape)"
      ],
      "metadata": {
        "id": "eAAD4iahKXfN"
      },
      "execution_count": null,
      "outputs": []
    },
    {
      "cell_type": "code",
      "source": [
        "#Se limpia las localidades que pueden tener nombre repetido y esten por fuera de las localidades en análisis.\n",
        "costa_data=costa_merge[(costa_merge[\"provincia_nombre\"]==\"Buenos Aires\")|\n",
        "            (costa_merge[\"provincia_nombre\"]==\"Chubut\")|\n",
        "            (costa_merge[\"provincia_nombre\"]==\"Santa Cruz\")|\n",
        "            (costa_merge[\"provincia_nombre\"]==\"Río Negro\")|\n",
        "            (costa_merge[\"provincia_nombre\"]==\"Tierra del Fuego, Antártida e Islas del Atlántico Sur\")\n",
        "            ]"
      ],
      "metadata": {
        "id": "stDuVWO3KZYx"
      },
      "execution_count": null,
      "outputs": []
    },
    {
      "cell_type": "code",
      "source": [
        "CLIENT_ID = 'LM5HN3042JGPC50VLXUT2XG4L1Z4BN3DY1S5MBA5ANSVO54V' # su ID de Foursquare\n",
        "CLIENT_SECRET = 'YCBLJNJX2WJMP0CKANFLTPXGSAQIARRGUKPB5BRROGAWPJO3' # Secreto de Foursquare\n",
        "VERSION = '20180605' # versión de la API de Foursquare\n",
        "LIMIT = 100 # Un valor límite para la API de Foursquare\n",
        "\n",
        "print('Your credentails:')\n",
        "print('CLIENT_ID: ' + CLIENT_ID)\n",
        "print('CLIENT_SECRET:' + CLIENT_SECRET)"
      ],
      "metadata": {
        "id": "IpnEPp78KbSz"
      },
      "execution_count": null,
      "outputs": []
    },
    {
      "cell_type": "code",
      "source": [
        "def getNearbyVenues(names, latitudes, longitudes, radius=500):\n",
        "    \n",
        "    venues_list=[]\n",
        "    for name, lat, lng in zip(names, latitudes, longitudes):\n",
        "        print(name)\n",
        "            \n",
        "        # crear la URL de solicitud de API\n",
        "        url = 'https://api.foursquare.com/v2/venues/explore?&client_id={}&client_secret={}&v={}&ll={},{}&radius={}&limit={}'.format(\n",
        "            CLIENT_ID, \n",
        "            CLIENT_SECRET, \n",
        "            VERSION, \n",
        "            lat, \n",
        "            lng, \n",
        "            radius, \n",
        "            LIMIT)\n",
        "            \n",
        "        # solicitud GET\n",
        "        results = requests.get(url).json()[\"response\"]['groups'][0]['items']\n",
        "        \n",
        "        # regresa solo información relevante de cada sitio cercano\n",
        "        venues_list.append([(\n",
        "            name, \n",
        "            lat, \n",
        "            lng, \n",
        "            v['venue']['name'], \n",
        "            v['venue']['location']['lat'], \n",
        "            v['venue']['location']['lng'],  \n",
        "            v['venue']['categories'][0]['name']) for v in results])\n",
        "\n",
        "    nearby_venues = pd.DataFrame([item for venue_list in venues_list for item in venue_list])\n",
        "    nearby_venues.columns = ['Neighbourhood', \n",
        "                  'Neighbourhood Latitude', \n",
        "                  'Neighbourhood Longitude', \n",
        "                  'Venue', \n",
        "                  'Venue Latitude', \n",
        "                  'Venue Longitude', \n",
        "                  'Venue Category']\n",
        "    \n",
        "    return(nearby_venues)"
      ],
      "metadata": {
        "id": "SNgEJ7YvKdI1"
      },
      "execution_count": null,
      "outputs": []
    },
    {
      "cell_type": "code",
      "source": [
        "cos_venues = getNearbyVenues(names=costa_data['nombre'],\n",
        "                                   latitudes=costa_data['centroide_lat'],\n",
        "                                   longitudes=costa_data['centroide_lon']\n",
        "                                  )"
      ],
      "metadata": {
        "id": "q1e5SNt6KhQl"
      },
      "execution_count": null,
      "outputs": []
    },
    {
      "cell_type": "code",
      "source": [
        "  cos_venues.groupby('Neighbourhood').count()"
      ],
      "metadata": {
        "id": "ETrqGQc_KjWa"
      },
      "execution_count": null,
      "outputs": []
    },
    {
      "cell_type": "code",
      "source": [
        "print('Hay {} categorias únicas.'.format(len(cos_venues['Venue Category'].unique())))"
      ],
      "metadata": {
        "id": "sSIhf_HkKlm7"
      },
      "execution_count": null,
      "outputs": []
    },
    {
      "cell_type": "code",
      "source": [
        "# codificación\n",
        "costa_onehot = pd.get_dummies(cos_venues[['Venue Category']], prefix=\"\", prefix_sep=\"\")\n",
        "\n",
        "# añadir la columna de barrio de regreso al dataframe\n",
        "costa_onehot['Neighbourhood'] = cos_venues['Neighbourhood'] \n",
        "\n",
        "# mover la columna de barrio a la primer columna\n",
        "fixed_columns = [costa_onehot.columns[-1]] + list(costa_onehot.columns[:-1])\n",
        "costa_onehot = costa_onehot[fixed_columns]\n",
        "\n",
        "#Agrupación por el promedio\n",
        "costa_grouped = costa_onehot.groupby('Neighbourhood').mean().reset_index()"
      ],
      "metadata": {
        "id": "LN2jUFyHKn7Z"
      },
      "execution_count": null,
      "outputs": []
    },
    {
      "cell_type": "code",
      "source": [
        "costa_grouped.head()"
      ],
      "metadata": {
        "id": "fQ0U_lRpKqIS"
      },
      "execution_count": null,
      "outputs": []
    },
    {
      "cell_type": "code",
      "source": [
        "def return_most_common_venues(row, num_top_venues):\n",
        "    row_categories = row.iloc[1:]\n",
        "    row_categories_sorted = row_categories.sort_values(ascending=False)\n",
        "    \n",
        "    return row_categories_sorted.index.values[0:num_top_venues]"
      ],
      "metadata": {
        "id": "3C_jcgTvKrgA"
      },
      "execution_count": null,
      "outputs": []
    },
    {
      "cell_type": "code",
      "source": [
        "num_top_venues = 3\n",
        "\n",
        "indicators = ['st', 'nd', 'rd']\n",
        "\n",
        "# crear las columnas acorde al numero de sitios populares\n",
        "columns = ['Neighbourhood']\n",
        "for ind in np.arange(num_top_venues):\n",
        "    try:\n",
        "        columns.append('{}{} Most Common Venue'.format(ind+1, indicators[ind]))\n",
        "    except:\n",
        "        columns.append('{}th Most Common Venue'.format(ind+1))\n",
        "\n",
        "# crear un nuevo dataframe\n",
        "neighborhoods_venues_sorted = pd.DataFrame(columns=columns)\n",
        "neighborhoods_venues_sorted['Neighbourhood'] = costa_grouped['Neighbourhood']\n",
        "\n",
        "for ind in np.arange(costa_grouped.shape[0]):\n",
        "    neighborhoods_venues_sorted.iloc[ind, 1:] = return_most_common_venues(costa_grouped.iloc[ind, :], num_top_venues)\n",
        "\n",
        "neighborhoods_venues_sorted.head()"
      ],
      "metadata": {
        "id": "bI-rd7SLKtky"
      },
      "execution_count": null,
      "outputs": []
    },
    {
      "cell_type": "code",
      "source": [
        "##Sumar variables de Internet\n",
        "acceso=internet.drop([\"Partido\",\"link\",\"Latitud\",\"Longitud\"],axis=1)\n",
        "\n",
        "#Se limpia las localidades que pueden tener nombre repetido y esten por fuera de las localidades en análisis.\n",
        "int_var=acceso[(acceso[\"Provincia\"]==\"BUENOS AIRES\")|\n",
        "            (acceso[\"Provincia\"]==\"CHUBUT\")|\n",
        "            (acceso[\"Provincia\"]==\"SANTA CRUZ\")|\n",
        "            (acceso[\"Provincia\"]==\"RIO NEGRO\")|\n",
        "            (acceso[\"Provincia\"]==\"TIERRA DEL FUEGO\")\n",
        "            ]"
      ],
      "metadata": {
        "id": "jhqq53etKvik"
      },
      "execution_count": null,
      "outputs": []
    },
    {
      "cell_type": "code",
      "source": [
        "#Se hace un merge para trabajar solo con las localidades en estudio\n",
        "variables_data=costa_grouped[[\"Neighbourhood\"]].merge(int_var,how=\"left\",left_on=\"Neighbourhood\",right_on=\"Localidad\")"
      ],
      "metadata": {
        "id": "yJouyqosKxwv"
      },
      "execution_count": null,
      "outputs": []
    },
    {
      "cell_type": "code",
      "source": [
        "variables_data.columns"
      ],
      "metadata": {
        "id": "EXePDoM5Kztp"
      },
      "execution_count": null,
      "outputs": []
    },
    {
      "cell_type": "code",
      "source": [
        "variables_data.head()"
      ],
      "metadata": {
        "id": "WzwVzDTtK2E3"
      },
      "execution_count": null,
      "outputs": []
    },
    {
      "cell_type": "code",
      "source": [
        "# example of a ordinal encoding\n",
        "from numpy import asarray\n",
        "from sklearn.preprocessing import OrdinalEncoder\n",
        "#define data\n",
        "data = variables_data[['ADSL','CABLEMODEM','DIALUP','FIBRAOPTICA','SATELITAL','WIRELESS', 'TELEFONIAFIJA','3G','4G']]\n",
        "# define ordinal encoding\n",
        "encoder = OrdinalEncoder()\n",
        "# transform data\n",
        "result = encoder.fit_transform(data)"
      ],
      "metadata": {
        "id": "jMRXCSjQK3nd"
      },
      "execution_count": null,
      "outputs": []
    },
    {
      "cell_type": "code",
      "source": [
        "#Convertir a un dataframe\n",
        "internet_grouped=pd.DataFrame(data=result,columns=[data.columns]).reset_index(drop=True)\n",
        "\n",
        "#Concatenar con las variables geograficas\n",
        "var_grouped=pd.concat([costa_grouped,internet_grouped], axis=1)"
      ],
      "metadata": {
        "id": "mQERSc4CK5YL"
      },
      "execution_count": null,
      "outputs": []
    },
    {
      "cell_type": "code",
      "source": [
        "internet_grouped.describe()"
      ],
      "metadata": {
        "id": "z9t9f6NoK7WE"
      },
      "execution_count": null,
      "outputs": []
    },
    {
      "cell_type": "code",
      "source": [
        "#Seleccion de Columnas con la información por tipo de red de acceso\n",
        "internet_data=var_grouped.loc[:,var_grouped.columns[[0] +list(range(76, var_grouped.shape[1]))]]\n",
        "\n",
        "#Argupaciones\n",
        "internet_data[\"Red_Movil\"]=np.where(internet_data.iloc[:,8]+internet_data.iloc[:,9]>0,\"SI\",\"NO\")\n",
        "internet_data[\"Red_BandaAncha\"]=np.where(internet_data.iloc[:,1]+internet_data.iloc[:,2]+internet_data.iloc[:,4]>0,\"SI\",\"NO\")\n",
        "internet_data[\"Red_BandaAngosta\"]=np.where(internet_data.iloc[:,3]+internet_data.iloc[:,5]+internet_data.iloc[:,6]>0,\"SI\",\"NO\")\n",
        "internet_data[\"Telefono_Fijo\"]=np.where(internet_data.iloc[:,7]>0,\"SI\",\"NO\")\n",
        "\n",
        "#Se dejan solo las columnas agrupadas y se trae la informeación de Población\n",
        "acceso_data=internet_data.loc[:,internet_data.columns[[0] + list(range(10,internet_data.shape[1]))]]\n",
        "acceso_data.insert(1,'Poblacion', variables_data[\"Poblacion\"])\n",
        "acceso_data.head()"
      ],
      "metadata": {
        "id": "ho80ZQf4K9H-"
      },
      "execution_count": null,
      "outputs": []
    },
    {
      "cell_type": "code",
      "source": [
        "#Variables para el modelo sin el campo Neighbourhood\n",
        "costa_grouped_clustering = var_grouped.drop('Neighbourhood', 1)"
      ],
      "metadata": {
        "id": "EJZ8NCZGK_YW"
      },
      "execution_count": null,
      "outputs": []
    },
    {
      "cell_type": "code",
      "source": [
        "#Curva del Codo\n",
        "X=costa_grouped_clustering\n",
        "Nc = range(1, 20)\n",
        "kmeans = [KMeans(n_clusters=i) for i in Nc]\n",
        "kmeans\n",
        "score = [kmeans[i].fit(X).score(X) for i in range(len(kmeans))]\n",
        "score\n",
        "plt.plot(Nc,score)\n",
        "plt.xlabel('Number of Clusters')\n",
        "plt.ylabel('Score')\n",
        "plt.title('Elbow Curve')\n",
        "plt.show()"
      ],
      "metadata": {
        "id": "cgYdy0hQLBeF"
      },
      "execution_count": null,
      "outputs": []
    },
    {
      "cell_type": "code",
      "source": [
        "# establecer el número de agrupaciones\n",
        "kclusters = 3\n",
        "\n",
        "# ejecutar k-means\n",
        "kmeans = KMeans(n_clusters=kclusters, random_state=0).fit(costa_grouped_clustering)\n",
        "\n",
        "# revisar las etiquetas de las agrupaciones generadas para cada fila del dataframe\n",
        "kmeans.labels_[0:10] "
      ],
      "metadata": {
        "id": "zlOxUaxDLDEJ"
      },
      "execution_count": null,
      "outputs": []
    },
    {
      "cell_type": "code",
      "source": [
        "costa_localidades=costa_data[[\"Localidades_Costa\",\"provincia_nombre\",\"centroide_lat\",\"centroide_lon\"]].merge(acceso_data,left_on='Localidades_Costa', right_on='Neighbourhood')\n",
        "costa_localidades=costa_localidades.drop(\"Neighbourhood\",axis=1)\n",
        "costa_localidades.head()"
      ],
      "metadata": {
        "id": "i4HyeKCmLE6C"
      },
      "execution_count": null,
      "outputs": []
    },
    {
      "cell_type": "code",
      "source": [
        "# añadir etiquetas\n",
        "neighborhoods_venues_sorted.insert(0, 'Cluster Labels', kmeans.labels_)\n",
        "\n",
        "# juntar costa_grouped con costa_data \n",
        "costa_merged = costa_localidades.merge(neighborhoods_venues_sorted,left_on='Localidades_Costa', right_on='Neighbourhood')\n",
        "\n",
        "costa_merged.head() # revisar las ultimas columnas"
      ],
      "metadata": {
        "id": "jBexYwqXLGsi"
      },
      "execution_count": null,
      "outputs": []
    },
    {
      "cell_type": "code",
      "source": [
        "# crear mapa\n",
        "map_clusters = folium.Map(location=[latitude, longitude], zoom_start=4)\n",
        "\n",
        "# establecer el esquema de color para las agrupaciones\n",
        "x = np.arange(kclusters)\n",
        "ys = [i + x + (i*x)**2 for i in range(kclusters)]\n",
        "colors_array = cm.rainbow(np.linspace(0, 1, len(ys)))\n",
        "rainbow = [colors.rgb2hex(i) for i in colors_array]\n",
        "\n",
        "# añadir marcadores al mapa\n",
        "markers_colors = []\n",
        "for lat, lon, poi, cluster in zip(costa_merged['centroide_lat'], costa_merged['centroide_lon'], costa_merged['Localidades_Costa'], costa_merged['Cluster Labels']):\n",
        "    label = folium.Popup(str(poi) + ' Cluster ' + str(cluster), parse_html=True)\n",
        "    folium.CircleMarker(\n",
        "        [lat, lon],\n",
        "        radius=10,\n",
        "        popup=label,\n",
        "        color=rainbow[cluster-1],\n",
        "        fill=True,\n",
        "        fill_color=rainbow[cluster-1],\n",
        "        fill_opacity=0.7).add_to(map_clusters)\n",
        "       \n",
        "map_clusters"
      ],
      "metadata": {
        "id": "-Cm8gOcmLI0q"
      },
      "execution_count": null,
      "outputs": []
    },
    {
      "cell_type": "code",
      "source": [
        "costa_merged.loc[costa_merged['Cluster Labels'] == 0, costa_merged.columns[[1] + list(range(4, costa_merged.shape[1]))]].sort_values(\"Poblacion\",ascending=False)"
      ],
      "metadata": {
        "id": "NvaIqE-sLLO3"
      },
      "execution_count": null,
      "outputs": []
    },
    {
      "cell_type": "code",
      "source": [
        "costa_merged.loc[costa_merged['Cluster Labels'] == 1, costa_merged.columns[[1] + list(range(4, costa_merged.shape[1]))]].sort_values(\"Poblacion\",ascending=False)"
      ],
      "metadata": {
        "id": "Ozj-tUNMLTwT"
      },
      "execution_count": null,
      "outputs": []
    },
    {
      "cell_type": "code",
      "source": [
        "costa_merged.loc[costa_merged['Cluster Labels'] == 2, costa_merged.columns[[1] + list(range(4, costa_merged.shape[1]))]].sort_values(\"Poblacion\",ascending=False)"
      ],
      "metadata": {
        "id": "C90ow1G3LVzI"
      },
      "execution_count": null,
      "outputs": []
    },
    {
      "cell_type": "code",
      "source": [],
      "metadata": {
        "id": "eAPQkCWGLV61"
      },
      "execution_count": null,
      "outputs": []
    }
  ]
}