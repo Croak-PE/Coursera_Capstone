{
  "nbformat": 4,
  "nbformat_minor": 0,
  "metadata": {
    "colab": {
      "provenance": []
    },
    "kernelspec": {
      "name": "python3",
      "display_name": "Python 3"
    },
    "language_info": {
      "name": "python"
    }
  },
  "cells": [
    {
      "cell_type": "markdown",
      "source": [
        "Proyecto Final Batalla de los Vecindarios\n",
        "\n",
        "Definición del Problema Comercial: Después de la Pandema, se ha observado que muchos han empezado a moverse de las grandes ciudades a hacia ciudades mas pequeñas en busqueda de sitios mas tranquilos gracias a la posibilidad del trabajo virtual.\n",
        "\n",
        "Por eso un grupo de inversionistas quieren hacer un estudio en la Costa Atlántica Argentina para determinar la ciudad con mayor potencial para desarrollar en un proyecto inmobiliario.\n",
        "\n",
        "Datos: Los datos necesarios para este analisis son:\n",
        "\n",
        "Acceso a Internet fijo por tecnología y Localidad: Detalle del acceso de Internet y velocidades promedio de Internet fijo por localidad proporcionadas por la ENACOM, ente regularor de Telecomunicaciones de Argentina en el siguiente enlace: https://datosabiertos.enacom.gob.ar/dashboards/20000/acceso-a-internet/\n",
        "\n",
        "Localidades balnearias de la Costa Atlántica: Las ciudades balnearias mas importantes de la Costa Atlantica y una lista del top 10 por población según el censo del año 2016, ya que son las ciudades con mas infraestructura son tentativamente la mejor opcion para tener en cuenta en el lugar deseado para invertir, datos obtenidos de Wikipedia según el Censo 2016. https://es.wikipedia.org/wiki/Localidades_balnearias_del_mar_Argentino\n",
        "\n",
        "Coordenadas geograficas de la Costa Atlántica: Datos geográficos de Argentina y de los lugares mas populares de las 10 ciudades mas representativas poblacionalmente de la costa, los cuales seriviran para tener una mayor idea en que ciudades conviene desarrollar el proyecto, datos obtenidos de la pagina Foursquare. https://es.foursquare.com/developers/projects"
      ],
      "metadata": {
        "id": "HKbF9-yxFn2q"
      }
    }
  ]
}